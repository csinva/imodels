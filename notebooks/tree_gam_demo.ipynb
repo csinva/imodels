{
 "cells": [
  {
   "cell_type": "markdown",
   "metadata": {
    "collapsed": false,
    "pycharm": {
     "name": "#%% md\n"
    }
   },
   "source": [
    "Explorations using the TreeGAMClassifier."
   ]
  },
  {
   "cell_type": "code",
   "execution_count": null,
   "metadata": {
    "collapsed": false,
    "pycharm": {
     "name": "#%%\n"
    }
   },
   "outputs": [],
   "source": [
    "%load_ext autoreload\n",
    "%autoreload 2\n",
    "import numpy as np\n",
    "import matplotlib.pyplot as plt\n",
    "import pandas as pd\n",
    "from sklearn.model_selection import train_test_split\n",
    "from sklearn import metrics\n",
    "from imodels import TreeGAMClassifier\n",
    "import imodels\n",
    "from collections import defaultdict\n",
    "import joblib\n",
    "import dvu\n",
    "dvu.set_style()\n",
    "from tqdm import tqdm"
   ]
  },
  {
   "cell_type": "markdown",
   "metadata": {},
   "source": [
    "## Basic example"
   ]
  },
  {
   "cell_type": "code",
   "execution_count": null,
   "metadata": {},
   "outputs": [],
   "source": [
    "X, y, feat_names = imodels.get_clean_dataset(\"heart\")\n",
    "X_train, X_test, y_train, y_test = train_test_split(\n",
    "    X, y, test_size=0.2, random_state=13\n",
    ")\n",
    "\n",
    "m = TreeGAMClassifier(\n",
    "    n_boosting_rounds=0,\n",
    "    random_state=42,\n",
    "    n_boosting_rounds_marginal=5,\n",
    "    fit_linear_marginal=True,\n",
    "    max_leaf_nodes_marginal=3,\n",
    ")\n",
    "m.fit(X_train, y_train)\n",
    "roc_auc = metrics.roc_auc_score(y_test, m.predict_proba(X_test)[:, 1])\n",
    "acc = metrics.accuracy_score(y_test, m.predict(X_test))\n",
    "print(f\"Class imbalance (train: {np.mean(y_train):.3f}) (test: {np.mean(y_test):.3f})\")\n",
    "print(\n",
    "    f\"Train roc auc: {metrics.roc_auc_score(y_train, m.predict_proba(X_train)[:, 1]):.3f}\"\n",
    ")\n",
    "print(f\"Train Accuracy: {metrics.accuracy_score(y_train, m.predict(X_train)):.3f}\")\n",
    "print(f\"Test roc auc: {roc_auc:.3f}\")\n",
    "print(f\"Test Accuracy: {acc:.3f}\")\n",
    "\n",
    "feature_vals_list, shape_function_vals_list = m.get_shape_function_vals(\n",
    "    X_train, max_evals=100\n",
    ")"
   ]
  },
  {
   "cell_type": "code",
   "execution_count": null,
   "metadata": {},
   "outputs": [],
   "source": [
    "def plot_shape_function_vals_list_list(\n",
    "    feature_vals_list_list, shape_function_vals_list_list, feat_names\n",
    "):\n",
    "    # plot them all\n",
    "    for i in range(len(feature_vals_list_list)):\n",
    "        feature_vals_list = feature_vals_list_list[i]\n",
    "        shape_function_vals_list = shape_function_vals_list_list[i]\n",
    "        print(np.unique(shape_function_vals_list[0]))\n",
    "        if i == 0:\n",
    "            p = len(feature_vals_list)\n",
    "            R = int(np.floor(np.sqrt(p)))\n",
    "            C = int(np.ceil(p / R))\n",
    "            plt.figure(figsize=(C * 2, R * 2))\n",
    "        for feat_num in range(p):\n",
    "            plt.subplot(R, C, feat_num + 1)\n",
    "            categorical = len(feature_vals_list[feat_num]) <= 5\n",
    "            if categorical:\n",
    "                kwargs = {\"marker\": \".\", 'linestyle': ':'}\n",
    "            else:\n",
    "                kwargs = {}\n",
    "            plt.plot(\n",
    "                feature_vals_list[feat_num],\n",
    "                shape_function_vals_list[feat_num],\n",
    "                **kwargs\n",
    "            )\n",
    "            # add title inset in plot\n",
    "            plt.title(\n",
    "                feat_names[feat_num],\n",
    "                loc=\"center\",\n",
    "                y=1,\n",
    "                pad=-10,\n",
    "                fontsize='small',\n",
    "            )\n",
    "        plt.tight_layout()\n",
    "        # plt.show()\n",
    "plot_shape_function_vals_list_list([feature_vals_list], [shape_function_vals_list], feat_names)"
   ]
  }
 ],
 "metadata": {
  "jupytext": {
   "formats": "ipynb,../imodels/tests/notebooks//py:percent"
  },
  "kernelspec": {
   "display_name": ".embgam",
   "language": "python",
   "name": "python3"
  },
  "language_info": {
   "codemirror_mode": {
    "name": "ipython",
    "version": 3
   },
   "file_extension": ".py",
   "mimetype": "text/x-python",
   "name": "python",
   "nbconvert_exporter": "python",
   "pygments_lexer": "ipython3",
   "version": "3.11.4"
  },
  "vscode": {
   "interpreter": {
    "hash": "559535f78d940c882783b39501b2581b5193373045707e5f8a51d046029cfd38"
   }
  }
 },
 "nbformat": 4,
 "nbformat_minor": 4
}
